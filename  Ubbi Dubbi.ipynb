{
 "cells": [
  {
   "cell_type": "code",
   "execution_count": 1,
   "id": "ef87c9c0-5291-4c44-b16e-84072c2fb19b",
   "metadata": {},
   "outputs": [
    {
     "name": "stdout",
     "output_type": "stream",
     "text": [
      "pythubon\n"
     ]
    }
   ],
   "source": [
    "def ubbi_dubbi(word):\n",
    "        output=[]\n",
    "        for letter in word:\n",
    "            if letter in 'aeiou':\n",
    "                output.append(f'ub{letter}')\n",
    "            else:\n",
    "                output.append(letter)\n",
    "        return''.join(output)\n",
    "    \n",
    "print(ubbi_dubbi('python'))"
   ]
  }
 ],
 "metadata": {
  "kernelspec": {
   "display_name": "Python 3",
   "language": "python",
   "name": "python3"
  },
  "language_info": {
   "codemirror_mode": {
    "name": "ipython",
    "version": 3
   },
   "file_extension": ".py",
   "mimetype": "text/x-python",
   "name": "python",
   "nbconvert_exporter": "python",
   "pygments_lexer": "ipython3",
   "version": "3.9.5"
  }
 },
 "nbformat": 4,
 "nbformat_minor": 5
}
