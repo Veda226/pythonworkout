{
 "cells": [
  {
   "cell_type": "code",
   "execution_count": 1,
   "id": "efe7cd09-817c-42c1-9751-e7cf8db8d929",
   "metadata": {},
   "outputs": [
    {
     "name": "stdout",
     "output_type": "stream",
     "text": [
      "()\n"
     ]
    }
   ],
   "source": [
    "def mysum(*items):\n",
    "    if not items:\n",
    "        return items\n",
    "    output = items[0]\n",
    "    for item in items[1:]:\n",
    "        output += item\n",
    "    return output\n",
    "\n",
    "print(mysum())"
   ]
  },
  {
   "cell_type": "code",
   "execution_count": 2,
   "id": "e5b517c7-8b5d-4ce7-a8f4-1e76f78fafa7",
   "metadata": {},
   "outputs": [
    {
     "name": "stdout",
     "output_type": "stream",
     "text": [
      "800\n"
     ]
    }
   ],
   "source": [
    "print(mysum(10,20,30,740))"
   ]
  },
  {
   "cell_type": "code",
   "execution_count": 3,
   "id": "bdabf25c-e9fe-4d5c-9f7e-fdeaea967db0",
   "metadata": {},
   "outputs": [
    {
     "name": "stdout",
     "output_type": "stream",
     "text": [
      "abcd\n"
     ]
    }
   ],
   "source": [
    "print(mysum('a','b','c','d'))"
   ]
  },
  {
   "cell_type": "code",
   "execution_count": 4,
   "id": "582047b9-99fb-482a-b2e2-d16d75476ffb",
   "metadata": {},
   "outputs": [
    {
     "name": "stdout",
     "output_type": "stream",
     "text": [
      "[10, 20, 30, 40, 50, 60, 70, 80, 90]\n"
     ]
    }
   ],
   "source": [
    "print(mysum([10,20,30],[40,50,60],[70,80,90]))"
   ]
  },
  {
   "cell_type": "code",
   "execution_count": null,
   "id": "4076184e-4c8a-4768-84c2-24a56676ba17",
   "metadata": {},
   "outputs": [],
   "source": []
  }
 ],
 "metadata": {
  "kernelspec": {
   "display_name": "Python 3",
   "language": "python",
   "name": "python3"
  },
  "language_info": {
   "codemirror_mode": {
    "name": "ipython",
    "version": 3
   },
   "file_extension": ".py",
   "mimetype": "text/x-python",
   "name": "python",
   "nbconvert_exporter": "python",
   "pygments_lexer": "ipython3",
   "version": "3.9.5"
  }
 },
 "nbformat": 4,
 "nbformat_minor": 5
}
