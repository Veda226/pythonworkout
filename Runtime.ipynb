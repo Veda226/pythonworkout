{
 "cells": [
  {
   "cell_type": "code",
   "execution_count": 1,
   "id": "d5efec9f-58e1-4b78-a44c-f3d73aa1ac01",
   "metadata": {},
   "outputs": [],
   "source": [
    "#floating point\n",
    "s=0.1+0.7"
   ]
  },
  {
   "cell_type": "code",
   "execution_count": 2,
   "id": "1a6a48f8-88ae-470f-84a3-b068eb81bcb8",
   "metadata": {},
   "outputs": [
    {
     "name": "stdout",
     "output_type": "stream",
     "text": [
      "0.7999999999999999\n"
     ]
    }
   ],
   "source": [
    "print(s)"
   ]
  },
  {
   "cell_type": "code",
   "execution_count": 3,
   "id": "c5d4aba7-650f-457a-a91e-12e75c1282b5",
   "metadata": {},
   "outputs": [
    {
     "name": "stdout",
     "output_type": "stream",
     "text": [
      "0.80\n"
     ]
    }
   ],
   "source": [
    "#f string\n",
    "print(f'{s:.2f}')"
   ]
  },
  {
   "cell_type": "code",
   "execution_count": 5,
   "id": "d37f86db-35b9-4acb-9fe1-89cc11338755",
   "metadata": {},
   "outputs": [
    {
     "name": "stdin",
     "output_type": "stream",
     "text": [
      "Enter 5km run time: 10\n",
      "Enter 5km run time: 20\n",
      "Enter 5km run time: 30\n",
      "Enter 5km run time: 40\n",
      "Enter 5km run time: \n"
     ]
    },
    {
     "name": "stdout",
     "output_type": "stream",
     "text": [
      "Average of 25.00, over 4 runs\n"
     ]
    }
   ],
   "source": [
    "def run_timing():\n",
    "    number_of_runs = 0\n",
    "    total_time = 0\n",
    "    while True:\n",
    "        one_run=input('Enter 5km run time:')\n",
    "        if not one_run:\n",
    "            break\n",
    "        number_of_runs +=1\n",
    "        total_time +=float(one_run)\n",
    "    average_time = total_time / number_of_runs\n",
    "    print(f'Average of {average_time:.2f}, over {number_of_runs} runs')\n",
    "run_timing()"
   ]
  }
 ],
 "metadata": {
  "kernelspec": {
   "display_name": "Python 3",
   "language": "python",
   "name": "python3"
  },
  "language_info": {
   "codemirror_mode": {
    "name": "ipython",
    "version": 3
   },
   "file_extension": ".py",
   "mimetype": "text/x-python",
   "name": "python",
   "nbconvert_exporter": "python",
   "pygments_lexer": "ipython3",
   "version": "3.9.5"
  }
 },
 "nbformat": 4,
 "nbformat_minor": 5
}
