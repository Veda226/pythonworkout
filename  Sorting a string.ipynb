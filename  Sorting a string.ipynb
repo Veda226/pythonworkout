{
 "cells": [
  {
   "cell_type": "code",
   "execution_count": 1,
   "id": "1e5ed2fc-359c-4ade-b0b8-a62801ec5a2c",
   "metadata": {},
   "outputs": [
    {
     "name": "stdout",
     "output_type": "stream",
     "text": [
      "abcefj\n"
     ]
    }
   ],
   "source": [
    "def strsort(a_string):\n",
    "    return ''.join(sorted(a_string))\n",
    "print(strsort('cbjeaf'))"
   ]
  },
  {
   "cell_type": "code",
   "execution_count": 2,
   "id": "07f1daf9-dbb2-4b71-885e-fe8c9fd6d1cd",
   "metadata": {},
   "outputs": [
    {
     "name": "stdout",
     "output_type": "stream",
     "text": [
      "['a', 'b', 'c', 'e', 'f', 'j']\n"
     ]
    }
   ],
   "source": [
    "def strsort(a_string):\n",
    "    return (sorted(a_string))\n",
    "print(strsort('cbjeaf'))"
   ]
  },
  {
   "cell_type": "code",
   "execution_count": null,
   "id": "fd6038d1-f65b-4e0f-8960-8341710b478c",
   "metadata": {},
   "outputs": [],
   "source": []
  }
 ],
 "metadata": {
  "kernelspec": {
   "display_name": "Python 3",
   "language": "python",
   "name": "python3"
  },
  "language_info": {
   "codemirror_mode": {
    "name": "ipython",
    "version": 3
   },
   "file_extension": ".py",
   "mimetype": "text/x-python",
   "name": "python",
   "nbconvert_exporter": "python",
   "pygments_lexer": "ipython3",
   "version": "3.9.5"
  }
 },
 "nbformat": 4,
 "nbformat_minor": 5
}
