{
 "cells": [
  {
   "cell_type": "code",
   "execution_count": 1,
   "id": "3b576f6e-84aa-432e-9add-d87906fa247f",
   "metadata": {},
   "outputs": [
    {
     "name": "stdout",
     "output_type": "stream",
     "text": [
      "0:a\n",
      "1:b\n",
      "2:c\n",
      "3:d\n"
     ]
    }
   ],
   "source": [
    "for index,one_letter in enumerate('abcd'):\n",
    "    print(f'{index}:{one_letter}')"
   ]
  },
  {
   "cell_type": "code",
   "execution_count": null,
   "id": "fbb218b9-242c-4c8f-8107-d7df3a379e10",
   "metadata": {},
   "outputs": [],
   "source": [
    "def hex_output():\n",
    "    decnum = 0\n",
    "    hexnum = input('Enter a hex number to convert: ')\n",
    "    for power, digit in enumerate(reversed(hexnum)):\n",
    "        decnum +=int(digit,16)*(16) "
   ]
  }
 ],
 "metadata": {
  "kernelspec": {
   "display_name": "Python 3",
   "language": "python",
   "name": "python3"
  },
  "language_info": {
   "codemirror_mode": {
    "name": "ipython",
    "version": 3
   },
   "file_extension": ".py",
   "mimetype": "text/x-python",
   "name": "python",
   "nbconvert_exporter": "python",
   "pygments_lexer": "ipython3",
   "version": "3.9.5"
  }
 },
 "nbformat": 4,
 "nbformat_minor": 5
}
