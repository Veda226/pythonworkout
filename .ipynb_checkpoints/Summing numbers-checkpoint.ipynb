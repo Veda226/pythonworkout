{
 "cells": [
  {
   "cell_type": "code",
   "execution_count": 1,
   "id": "e0d2ff00-ec3f-413a-a5bf-e51d545e5b88",
   "metadata": {},
   "outputs": [
    {
     "name": "stdout",
     "output_type": "stream",
     "text": [
      "120\n"
     ]
    }
   ],
   "source": [
    "def mysum(*numbers):\n",
    "    output = 0\n",
    "    for number in numbers:\n",
    "        output += number\n",
    "    return output\n",
    "print(mysum(10,20,20,30,40))"
   ]
  }
 ],
 "metadata": {
  "kernelspec": {
   "display_name": "Python 3",
   "language": "python",
   "name": "python3"
  },
  "language_info": {
   "codemirror_mode": {
    "name": "ipython",
    "version": 3
   },
   "file_extension": ".py",
   "mimetype": "text/x-python",
   "name": "python",
   "nbconvert_exporter": "python",
   "pygments_lexer": "ipython3",
   "version": "3.9.5"
  }
 },
 "nbformat": 4,
 "nbformat_minor": 5
}
